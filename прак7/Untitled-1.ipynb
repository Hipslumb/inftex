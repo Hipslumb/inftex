{
 "cells": [
  {
   "cell_type": "code",
   "execution_count": 1,
   "metadata": {},
   "outputs": [],
   "source": [
    "from sympy import*\n",
    "def transpose(matrix):\n",
    "    print(\"Исходная матрица:\\n\")\n",
    "    pprint(matrix)\n",
    "    print(\"\\nТранспонированная:\\n\")\n",
    "    return matrix.T\n"
   ]
  },
  {
   "cell_type": "code",
   "execution_count": 2,
   "metadata": {},
   "outputs": [
    {
     "name": "stdout",
     "output_type": "stream",
     "text": [
      "Исходная матрица:\n",
      "\n",
      "⎡1   2   3   4 ⎤\n",
      "⎢              ⎥\n",
      "⎢5   6   7   8 ⎥\n",
      "⎢              ⎥\n",
      "⎢9   10  11  12⎥\n",
      "⎢              ⎥\n",
      "⎣13  14  15  16⎦\n",
      "\n",
      "Транспонированная:\n",
      "\n",
      "⎡1  5  9   13⎤\n",
      "⎢            ⎥\n",
      "⎢2  6  10  14⎥\n",
      "⎢            ⎥\n",
      "⎢3  7  11  15⎥\n",
      "⎢            ⎥\n",
      "⎣4  8  12  16⎦\n"
     ]
    }
   ],
   "source": [
    "matrix = Matrix([[1,2,3,4],[5,6,7,8],[9,10,11,12],[13,14,15,16]])\n",
    "pprint(transpose(matrix))"
   ]
  },
  {
   "cell_type": "code",
   "execution_count": 3,
   "metadata": {},
   "outputs": [
    {
     "name": "stdout",
     "output_type": "stream",
     "text": [
      "Транспонированная матрица 1 (list):\n",
      "[2, 5, 9, 11]\n",
      "[1, 6, 8, 14]\n",
      "[7, 7, 2, 15]\n",
      "[4, 3, 12, 15]\n",
      "\n",
      "Транспонированная матрица 2 (list):\n",
      "[3, 2]\n",
      "[7, 5]\n",
      "[8, 9]\n",
      "[3, 4]\n",
      "[6, 13]\n",
      "\n",
      "Транспонированная матрица 1 (numpy.array):\n",
      "[[ 2  5  9 11]\n",
      " [ 1  6  8 14]\n",
      " [ 7  7  2 15]\n",
      " [ 4  3 12 15]]\n",
      "\n",
      "Транспонированная матрица 2 (numpy.array):\n",
      "[[ 3  2]\n",
      " [ 7  5]\n",
      " [ 8  9]\n",
      " [ 3  4]\n",
      " [ 6 13]]\n"
     ]
    }
   ],
   "source": [
    "import numpy as np\n",
    "def transpose_matrix(matrix):\n",
    "    if isinstance(matrix, np.ndarray):\n",
    "        return matrix.T\n",
    "    elif isinstance(matrix, list):\n",
    "        return [list(row) for row in zip(*matrix)]\n",
    "    else:\n",
    "        raise ValueError(\"Неподдерживаемый тип данных.\")\n",
    "matrix1 = [\n",
    "    [2, 1, 7, 4],\n",
    "    [5, 6, 7, 3],\n",
    "    [9, 8, 2, 12],\n",
    "    [11, 14, 15, 15]\n",
    "]\n",
    "matrix2 = [\n",
    "    [3, 7, 8, 3, 6],\n",
    "    [2, 5, 9, 4, 13]\n",
    "]\n",
    "transposed_matrix1 = transpose_matrix(matrix1)\n",
    "transposed_matrix2 = transpose_matrix(matrix2)\n",
    "print(\"Транспонированная матрица 1 (list):\")\n",
    "for row in transposed_matrix1:\n",
    "    print(row)\n",
    "\n",
    "print(\"\\nТранспонированная матрица 2 (list):\")\n",
    "for row in transposed_matrix2:\n",
    "    print(row)\n",
    "    \n",
    "np_matrix1 = np.array(matrix1)\n",
    "np_matrix2 = np.array(matrix2)\n",
    "\n",
    "transposed_np_matrix1 = transpose_matrix(np_matrix1)\n",
    "transposed_np_matrix2 = transpose_matrix(np_matrix2)\n",
    "\n",
    "print(\"\\nТранспонированная матрица 1 (numpy.array):\")\n",
    "print(transposed_np_matrix1)\n",
    "\n",
    "print(\"\\nТранспонированная матрица 2 (numpy.array):\")\n",
    "print(transposed_np_matrix2)"
   ]
  },
  {
   "cell_type": "code",
   "execution_count": 4,
   "metadata": {},
   "outputs": [
    {
     "name": "stdout",
     "output_type": "stream",
     "text": [
      "Шаг 1: (a1, a2) = (0.6445, 1.0440), MSE = 8.5608\n",
      "Шаг 2: (a1, a2) = (0.6737, 1.1086), MSE = 6.8435\n",
      "Шаг 3: (a1, a2) = (0.6824, 1.1413), MSE = 6.4741\n",
      "Шаг 4: (a1, a2) = (0.6818, 1.1592), MSE = 6.3879\n",
      "Шаг 5: (a1, a2) = (0.6772, 1.1703), MSE = 6.3617\n",
      "Шаг 6: (a1, a2) = (0.6710, 1.1781), MSE = 6.3487\n",
      "\n",
      "Итог: достигнуто MSE < 6.36 за 6 шагов.\n"
     ]
    }
   ],
   "source": [
    "def mse(a1, a2):\n",
    "    return 0.25 * ((a1 + 2*a2 - 5)**2 + (5*a1 + 3*a2 - 6)**2 + (2*a1 + 4*a2 - 10)**2 + (3*a1 + 7*a2 - 8)**2)\n",
    "def gradient(a1, a2):\n",
    "    df_da1 = 19.5 * a1 + 23 * a2 - 39.5\n",
    "    df_da2 = 23 * a1 + 39 * a2 - 62\n",
    "    return np.array([df_da1, df_da2])\n",
    "a1, a2 = 0.57, 0.91\n",
    "alpha = 0.01\n",
    "steps = 0\n",
    "while True:\n",
    "    current_mse = mse(a1, a2)\n",
    "    grad = gradient(a1, a2)\n",
    "    a1 -= alpha * grad[0]\n",
    "    a2 -= alpha * grad[1]\n",
    "    steps += 1\n",
    "    print(f\"Шаг {steps}: (a1, a2) = ({a1:.4f}, {a2:.4f}), MSE = {current_mse:.4f}\")\n",
    "    if current_mse < 6.36:\n",
    "        break\n",
    "\n",
    "print(f\"\\nИтог: достигнуто MSE < 6.36 за {steps} шагов.\")"
   ]
  },
  {
   "cell_type": "code",
   "execution_count": null,
   "metadata": {},
   "outputs": [],
   "source": []
  }
 ],
 "metadata": {
  "kernelspec": {
   "display_name": "base",
   "language": "python",
   "name": "python3"
  },
  "language_info": {
   "codemirror_mode": {
    "name": "ipython",
    "version": 3
   },
   "file_extension": ".py",
   "mimetype": "text/x-python",
   "name": "python",
   "nbconvert_exporter": "python",
   "pygments_lexer": "ipython3",
   "version": "3.12.7"
  }
 },
 "nbformat": 4,
 "nbformat_minor": 2
}
