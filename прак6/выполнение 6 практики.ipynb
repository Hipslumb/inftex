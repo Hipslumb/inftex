{
 "cells": [
  {
   "cell_type": "code",
   "execution_count": 53,
   "metadata": {},
   "outputs": [],
   "source": [
    "from sympy import *\n",
    "x1, x2 = symbols('x1 x2')"
   ]
  },
  {
   "cell_type": "code",
   "execution_count": 54,
   "metadata": {},
   "outputs": [],
   "source": [
    "\n",
    "def calculate_mse(objects, targets, func):\n",
    "    mse = 0\n",
    "    for i in range(3):\n",
    "        x1_val, x2_val = objects[i]\n",
    "        target = targets[i]\n",
    "        predicted = func.subs({x1: x1_val, x2: x2_val})\n",
    "        mse += (predicted - target)**2\n",
    "    mse /= 3\n",
    "    return float(mse)\n"
   ]
  },
  {
   "cell_type": "code",
   "execution_count": 55,
   "metadata": {},
   "outputs": [
    {
     "name": "stdout",
     "output_type": "stream",
     "text": [
      "MSE для первого:\n",
      "f1: 3447.0, f2: 299168.6666666667\n"
     ]
    }
   ],
   "source": [
    "\n",
    "#1\n",
    "objects1 = [(10, 30), (-5, 15), (16, 31)]\n",
    "targets1 = [7, 20, -4]\n",
    "f1_1 = -2*x2 + x1 - 7\n",
    "f2_1 = 20*x2 + 3*x1 - 4\n",
    "\n",
    "mse_f1_1 = calculate_mse(objects1, targets1, f1_1)\n",
    "mse_f2_1 = calculate_mse(objects1, targets1, f2_1)\n",
    "\n",
    "print(\"MSE для первого:\")\n",
    "print(f\"f1: {mse_f1_1}, f2: {mse_f2_1}\")\n"
   ]
  },
  {
   "cell_type": "code",
   "execution_count": 56,
   "metadata": {},
   "outputs": [
    {
     "name": "stdout",
     "output_type": "stream",
     "text": [
      "MSE для второго:\n",
      "f1: 2819.6666666666665, f2: 91538.66666666667\n"
     ]
    }
   ],
   "source": [
    "#2\n",
    "objects2 = [(16, 17), (-3, 28), (14, 85)]\n",
    "targets2 = [13, 42, -39]\n",
    "f1_2 = -2*x2 - x1 + 60\n",
    "f2_2 = 2*x2 + 17*x1 - 9\n",
    "\n",
    "mse_f1_2 = calculate_mse(objects2, targets2, f1_2)\n",
    "mse_f2_2 = calculate_mse(objects2, targets2, f2_2)\n",
    "\n",
    "print(\"MSE для второго:\")\n",
    "print(f\"f1: {mse_f1_2}, f2: {mse_f2_2}\")"
   ]
  },
  {
   "cell_type": "code",
   "execution_count": 57,
   "metadata": {},
   "outputs": [
    {
     "name": "stdout",
     "output_type": "stream",
     "text": [
      "MSE для третьего:\n",
      "f1: 35903.0, f2: 144191.16666666666\n"
     ]
    }
   ],
   "source": [
    "#3\n",
    "objects3 = [(7, 39), (12, 48), (3, 55)]\n",
    "targets3 = [-60, 17, 83]\n",
    "f1_3 = -4*x2 + 7*x1 - 11\n",
    "f2_3 = -0.5*x2 + 9*x1 - 400\n",
    "\n",
    "mse_f1_3 = calculate_mse(objects3, targets3, f1_3)\n",
    "mse_f2_3 = calculate_mse(objects3, targets3, f2_3)\n",
    "\n",
    "print(\"MSE для третьего:\")\n",
    "print(f\"f1: {mse_f1_3}, f2: {mse_f2_3}\")"
   ]
  },
  {
   "cell_type": "code",
   "execution_count": 58,
   "metadata": {},
   "outputs": [
    {
     "data": {
      "image/png": "[encoded data removed]",
      "text/latex": [
       "$\\displaystyle 10$"
      ],
      "text/plain": [
       "10"
      ]
     },
     "execution_count": 58,
     "metadata": {},
     "output_type": "execute_result"
    }
   ],
   "source": [
    "diff(10*x1-5)"
   ]
  },
  {
   "cell_type": "code",
   "execution_count": null,
   "metadata": {},
   "outputs": [
    {
     "name": "stdout",
     "output_type": "stream",
     "text": [
      "Частная производная по a1:\n"
     ]
    },
    {
     "data": {
      "image/png": "[encoded data removed]",
      "text/latex": [
       "$\\displaystyle 800.0 a_{0} + 363333.333333333 a_{1} + 1666.66666666667 a_{2} - 336666.666666667$"
      ],
      "text/plain": [
       "800.0*a0 + 363333.333333333*a1 + 1666.66666666667*a2 - 336666.666666667"
      ]
     },
     "metadata": {},
     "output_type": "display_data"
    },
    {
     "name": "stdout",
     "output_type": "stream",
     "text": [
      "\n",
      "Частная производная по a0:\n"
     ]
    },
    {
     "data": {
      "image/png": "[encoded data removed]",
      "text/latex": [
       "$\\displaystyle 2.0 a_{0} + 800.0 a_{1} + 4.0 a_{2} - 733.333333333333$"
      ],
      "text/plain": [
       "2.0*a0 + 800.0*a1 + 4.0*a2 - 733.333333333333"
      ]
     },
     "metadata": {},
     "output_type": "display_data"
    }
   ],
   "source": [
    "\n",
    "a0, a1, a2 = symbols('a0 a1 a2')\n",
    "MSE = (1/3) * (\n",
    "    (2*a2 + 200*a1 + a0 - 200)**2 +\n",
    "    (a2 + 450*a1 + a0 - 300)**2 +\n",
    "    (3*a2 + 550*a1 + a0 - 600)**2\n",
    ")\n",
    "\n",
    "p_a1 = diff(MSE, a1)\n",
    "p_a0 = diff(MSE, a0)\n",
    "\n",
    "print(\"Частная производная по a1:\")\n",
    "display(p_a1)  # Используем display для красивого вывода в Jupyter\n",
    "\n",
    "print(\"\\nЧастная производная по a0:\")\n",
    "display(p_a0)  # Используем display для красивого вывода в Jupyter"
   ]
  },
  {
   "cell_type": "code",
   "execution_count": 62,
   "metadata": {},
   "outputs": [
    {
     "name": "stdout",
     "output_type": "stream",
     "text": [
      "Найденные коэффициенты:\n",
      "a0 = 220.000000000000\n",
      "a1 = 1.20000000000001\n",
      "a2 = -130.000000000003\n",
      "\n",
      "Предсказанная площадь для дома ценой 666 т.р. и 4этажа: 499.20 кв. м\n"
     ]
    }
   ],
   "source": [
    "\n",
    "a0, a1, a2 = symbols('a0 a1 a2')\n",
    "\n",
    "цены = [200, 300, 600]\n",
    "этажи = [2, 1, 3]\n",
    "площади = [200, 450, 550]\n",
    "\n",
    "MSE = (1/3) * (\n",
    "    (площади[0] - (a0 + a1 * цены[0] + a2 * этажи[0]))**2 +\n",
    "    (площади[1] - (a0 + a1 * цены[1] + a2 * этажи[1]))**2 +\n",
    "    (площади[2] - (a0 + a1 * цены[2] + a2 * этажи[2]))**2\n",
    ")\n",
    "\n",
    "p_a0 = diff(MSE, a0)\n",
    "p_a1 = diff(MSE, a1)\n",
    "p_a2 = diff(MSE, a2)\n",
    "\n",
    "решение = solve([p_a0, p_a1, p_a2], (a0, a1, a2))\n",
    "\n",
    "print(\"Найденные коэффициенты:\")\n",
    "print(f\"a0 = {решение[a0]}\")\n",
    "print(f\"a1 = {решение[a1]}\")\n",
    "print(f\"a2 = {решение[a2]}\")\n",
    "\n",
    "цена_нового = 666\n",
    "этажи_нового = 4\n",
    "площадь_нового = решение[a0] + решение[a1] * цена_нового + решение[a2] * этажи_нового\n",
    "\n",
    "print(f\"\\nПредсказанная площадь для дома ценой {цена_нового} т.р. и {этажи_нового}этажа: {площадь_нового:.2f} кв. м\")"
   ]
  }
 ],
 "metadata": {
  "kernelspec": {
   "display_name": "base",
   "language": "python",
   "name": "python3"
  },
  "language_info": {
   "codemirror_mode": {
    "name": "ipython",
    "version": 3
   },
   "file_extension": ".py",
   "mimetype": "text/x-python",
   "name": "python",
   "nbconvert_exporter": "python",
   "pygments_lexer": "ipython3",
   "version": "3.12.7"
  }
 },
 "nbformat": 4,
 "nbformat_minor": 2
}
