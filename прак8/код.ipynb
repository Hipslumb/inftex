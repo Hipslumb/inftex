{
 "cells": [
  {
   "cell_type": "code",
   "execution_count": 1,
   "metadata": {},
   "outputs": [],
   "source": [
    "from sympy import*\n",
    "x, y, z = symbols('x y z')"
   ]
  },
  {
   "cell_type": "code",
   "execution_count": 2,
   "metadata": {},
   "outputs": [
    {
     "data": {
      "text/latex": [
       "$\\displaystyle \\left[\\begin{matrix}-1 & 7 & -34\\\\8 & 8 & -48\\end{matrix}\\right]$"
      ],
      "text/plain": [
       "Matrix([\n",
       "[-1, 7, -34],\n",
       "[ 8, 8, -48]])"
      ]
     },
     "execution_count": 2,
     "metadata": {},
     "output_type": "execute_result"
    }
   ],
   "source": [
    "M1 = Matrix([[-1, 7, -34],[8, 8, -48]])\n",
    "M1"
   ]
  },
  {
   "cell_type": "code",
   "execution_count": 3,
   "metadata": {},
   "outputs": [
    {
     "data": {
      "text/latex": [
       "$\\displaystyle \\left[\\begin{matrix}4 & -7 & -4\\\\3 & -4 & -3\\end{matrix}\\right]$"
      ],
      "text/plain": [
       "Matrix([\n",
       "[4, -7, -4],\n",
       "[3, -4, -3]])"
      ]
     },
     "execution_count": 3,
     "metadata": {},
     "output_type": "execute_result"
    }
   ],
   "source": [
    "M2 = Matrix([[4, -7, -4],[3, -4, -3]])\n",
    "M2"
   ]
  },
  {
   "cell_type": "code",
   "execution_count": 4,
   "metadata": {},
   "outputs": [
    {
     "data": {
      "text/latex": [
       "$\\displaystyle \\left[\\begin{matrix}8 & -4 & 64\\\\-3 & 3 & -21\\end{matrix}\\right]$"
      ],
      "text/plain": [
       "Matrix([\n",
       "[ 8, -4,  64],\n",
       "[-3,  3, -21]])"
      ]
     },
     "execution_count": 4,
     "metadata": {},
     "output_type": "execute_result"
    }
   ],
   "source": [
    "M3 = Matrix([[8, -4, 64],[-3, 3, -21]])\n",
    "M3\n"
   ]
  },
  {
   "cell_type": "code",
   "execution_count": 5,
   "metadata": {},
   "outputs": [
    {
     "data": {
      "text/latex": [
       "$\\displaystyle \\left[\\begin{matrix}5 & 7 & -5 & -47\\\\0 & -2 & 2 & 10\\\\-4 & -8 & -7 & 63\\end{matrix}\\right]$"
      ],
      "text/plain": [
       "Matrix([\n",
       "[ 5,  7, -5, -47],\n",
       "[ 0, -2,  2,  10],\n",
       "[-4, -8, -7,  63]])"
      ]
     },
     "execution_count": 5,
     "metadata": {},
     "output_type": "execute_result"
    }
   ],
   "source": [
    "M4 = Matrix([[5, 7, -5, -47],[0, -2, 2, 10],[-4, -8, -7, 63]])\n",
    "M4"
   ]
  },
  {
   "cell_type": "code",
   "execution_count": 6,
   "metadata": {},
   "outputs": [
    {
     "name": "stdout",
     "output_type": "stream",
     "text": [
      "Решение для каждой матрицы:\n",
      "{(-1, -5)}\n",
      "{(-1, 0)}\n",
      "{(9, 2)}\n",
      "{(-2, -6, -1)}\n"
     ]
    }
   ],
   "source": [
    "print(\"Решение для каждой матрицы:\")\n",
    "print(linsolve(M1))\n",
    "print(linsolve(M2))\n",
    "print(linsolve(M3))\n",
    "print(linsolve(M4))"
   ]
  },
  {
   "cell_type": "code",
   "execution_count": 7,
   "metadata": {},
   "outputs": [
    {
     "data": {
      "text/latex": [
       "$\\displaystyle \\left[\\begin{matrix}-1 & 7\\\\8 & 8\\end{matrix}\\right]$"
      ],
      "text/plain": [
       "Matrix([\n",
       "[-1, 7],\n",
       "[ 8, 8]])"
      ]
     },
     "execution_count": 7,
     "metadata": {},
     "output_type": "execute_result"
    }
   ],
   "source": [
    "A1 = Matrix([[-1, 7], [8, 8]])\n",
    "V1 = Matrix([-1, -5])\n",
    "A1"
   ]
  },
  {
   "cell_type": "code",
   "execution_count": 8,
   "metadata": {},
   "outputs": [
    {
     "data": {
      "text/latex": [
       "$\\displaystyle \\left[\\begin{matrix}-34\\\\-48\\end{matrix}\\right]$"
      ],
      "text/plain": [
       "Matrix([\n",
       "[-34],\n",
       "[-48]])"
      ]
     },
     "execution_count": 8,
     "metadata": {},
     "output_type": "execute_result"
    }
   ],
   "source": [
    "A1*V1"
   ]
  },
  {
   "cell_type": "code",
   "execution_count": 9,
   "metadata": {},
   "outputs": [
    {
     "data": {
      "text/latex": [
       "$\\displaystyle \\left[\\begin{matrix}4 & -7\\\\3 & -4\\end{matrix}\\right]$"
      ],
      "text/plain": [
       "Matrix([\n",
       "[4, -7],\n",
       "[3, -4]])"
      ]
     },
     "execution_count": 9,
     "metadata": {},
     "output_type": "execute_result"
    }
   ],
   "source": [
    "A2 = Matrix([[4, -7], [3, -4]])\n",
    "V2 = Matrix([-1, 0])\n",
    "A2"
   ]
  },
  {
   "cell_type": "code",
   "execution_count": 10,
   "metadata": {},
   "outputs": [
    {
     "data": {
      "text/latex": [
       "$\\displaystyle \\left[\\begin{matrix}-4\\\\-3\\end{matrix}\\right]$"
      ],
      "text/plain": [
       "Matrix([\n",
       "[-4],\n",
       "[-3]])"
      ]
     },
     "execution_count": 10,
     "metadata": {},
     "output_type": "execute_result"
    }
   ],
   "source": [
    "A2*V2"
   ]
  },
  {
   "cell_type": "code",
   "execution_count": 11,
   "metadata": {},
   "outputs": [
    {
     "data": {
      "text/latex": [
       "$\\displaystyle \\left[\\begin{matrix}8 & -4\\\\-3 & 3\\end{matrix}\\right]$"
      ],
      "text/plain": [
       "Matrix([\n",
       "[ 8, -4],\n",
       "[-3,  3]])"
      ]
     },
     "execution_count": 11,
     "metadata": {},
     "output_type": "execute_result"
    }
   ],
   "source": [
    "A3 = Matrix([[8, -4], [-3, 3]])\n",
    "V3 = Matrix([9, 2])\n",
    "A3"
   ]
  },
  {
   "cell_type": "code",
   "execution_count": 12,
   "metadata": {},
   "outputs": [
    {
     "data": {
      "text/latex": [
       "$\\displaystyle \\left[\\begin{matrix}64\\\\-21\\end{matrix}\\right]$"
      ],
      "text/plain": [
       "Matrix([\n",
       "[ 64],\n",
       "[-21]])"
      ]
     },
     "execution_count": 12,
     "metadata": {},
     "output_type": "execute_result"
    }
   ],
   "source": [
    "A3*V3"
   ]
  },
  {
   "cell_type": "code",
   "execution_count": 13,
   "metadata": {},
   "outputs": [
    {
     "data": {
      "text/latex": [
       "$\\displaystyle \\left[\\begin{matrix}5 & 7 & -5\\\\0 & -2 & 2\\\\-4 & -8 & -7\\end{matrix}\\right]$"
      ],
      "text/plain": [
       "Matrix([\n",
       "[ 5,  7, -5],\n",
       "[ 0, -2,  2],\n",
       "[-4, -8, -7]])"
      ]
     },
     "execution_count": 13,
     "metadata": {},
     "output_type": "execute_result"
    }
   ],
   "source": [
    "A4 = Matrix([[5, 7, -5],[0,-2,2],[-4, -8, -7]])\n",
    "V4 = Matrix([-2, -6, -1])\n",
    "A4"
   ]
  },
  {
   "cell_type": "code",
   "execution_count": 14,
   "metadata": {},
   "outputs": [
    {
     "data": {
      "text/latex": [
       "$\\displaystyle \\left[\\begin{matrix}-47\\\\10\\\\63\\end{matrix}\\right]$"
      ],
      "text/plain": [
       "Matrix([\n",
       "[-47],\n",
       "[ 10],\n",
       "[ 63]])"
      ]
     },
     "execution_count": 14,
     "metadata": {},
     "output_type": "execute_result"
    }
   ],
   "source": [
    "A4*V4"
   ]
  },
  {
   "cell_type": "code",
   "execution_count": 15,
   "metadata": {},
   "outputs": [
    {
     "data": {
      "text/latex": [
       "$\\displaystyle \\left[\\begin{matrix}5 & 7 & -5 & -47\\\\0 & -2 & 2 & 10\\\\-4 & -8 & -7 & 63\\\\1 & 1 & 2 & -1\\\\2 & -1 & 2 & -4\\\\4 & 1 & 4 & -2\\end{matrix}\\right]$"
      ],
      "text/plain": [
       "Matrix([\n",
       "[ 5,  7, -5, -47],\n",
       "[ 0, -2,  2,  10],\n",
       "[-4, -8, -7,  63],\n",
       "[ 1,  1,  2,  -1],\n",
       "[ 2, -1,  2,  -4],\n",
       "[ 4,  1,  4,  -2]])"
      ]
     },
     "execution_count": 15,
     "metadata": {},
     "output_type": "execute_result"
    }
   ],
   "source": [
    "A = Matrix([[5, 7, -5],[0, -2, 2],[-4, -8, -7],[1, 1, 2],[2, -1, 2],[4, 1, 4]])\n",
    "V = Matrix([-47, 10, 63, -1, -4, -2])\n",
    "AV = Matrix([[5, 7, -5, -47],[0, -2, 2, 10],[-4, -8, -7, 63],[1, 1, 2, -1],[2, -1, 2, -4],[4, 1, 4, -2]])\n",
    "xyz = Matrix([x,y,z])\n",
    "AV"
   ]
  },
  {
   "cell_type": "code",
   "execution_count": 16,
   "metadata": {},
   "outputs": [
    {
     "data": {
      "text/latex": [
       "$\\displaystyle \\left[\\begin{matrix}5 x + 7 y - 5 z + 47\\\\- 2 y + 2 z - 10\\\\- 4 x - 8 y - 7 z - 63\\\\x + y + 2 z + 1\\\\2 x - y + 2 z + 4\\\\4 x + y + 4 z + 2\\end{matrix}\\right]$"
      ],
      "text/plain": [
       "Matrix([\n",
       "[ 5*x + 7*y - 5*z + 47],\n",
       "[      -2*y + 2*z - 10],\n",
       "[-4*x - 8*y - 7*z - 63],\n",
       "[      x + y + 2*z + 1],\n",
       "[    2*x - y + 2*z + 4],\n",
       "[    4*x + y + 4*z + 2]])"
      ]
     },
     "execution_count": 16,
     "metadata": {},
     "output_type": "execute_result"
    }
   ],
   "source": [
    "a = A * xyz - V\n",
    "a"
   ]
  },
  {
   "cell_type": "code",
   "execution_count": 17,
   "metadata": {},
   "outputs": [
    {
     "name": "stdout",
     "output_type": "stream",
     "text": [
      "Итерация 0: x=0.0000, y=0.0000, z=0.0000 | MSE=1049.83\n",
      "Итерация 1: x=-1.6800, y=-2.8400, z=-0.6800 | MSE=247.50\n",
      "Итерация 2: x=-2.2935, y=-4.1044, z=-0.7900 | MSE=104.49\n",
      "Итерация 3: x=-2.4760, y=-4.7122, z=-0.7230 | MSE=73.77\n",
      "Итерация 4: x=-2.4845, y=-5.0390, z=-0.6210 | MSE=64.19\n",
      "Итерация 5: x=-2.4235, y=-5.2402, z=-0.5301 | MSE=59.56\n",
      "Итерация 6: x=-2.3358, y=-5.3815, z=-0.4611 | MSE=56.57\n",
      "Итерация 7: x=-2.2389, y=-5.4916, z=-0.4130 | MSE=54.32\n",
      "Цель достигнута на итерации 7!\n"
     ]
    }
   ],
   "source": [
    "import numpy as np\n",
    "x, y, z = symbols('x y z')\n",
    "equations = [\n",
    "    5*x + 7*y - 5*z + 47,\n",
    "    -2*y + 2*z - 10,\n",
    "    -4*x - 8*y - 7*z - 63,\n",
    "    x + y + 2*z + 1,\n",
    "    2*x - y + 2*z + 4,\n",
    "    4*x + y + 4*z + 2\n",
    "]\n",
    "MSE = sum(eq**2 for eq in equations) / len(equations)\n",
    "dMSE_dx = diff(MSE, x)\n",
    "dMSE_dy = diff(MSE, y)\n",
    "dMSE_dz = diff(MSE, z)\n",
    "\n",
    "grad_func = [\n",
    "    lambdify((x, y, z), dMSE_dx, 'numpy'),\n",
    "    lambdify((x, y, z), dMSE_dy, 'numpy'),\n",
    "    lambdify((x, y, z), dMSE_dz, 'numpy')\n",
    "]\n",
    "mse_func = lambdify((x, y, z), MSE, 'numpy')\n",
    "\n",
    "def calculate_gradient(x_val, y_val, z_val):\n",
    "    return np.array([f(x_val, y_val, z_val) for f in grad_func])\n",
    "\n",
    "x_val, y_val, z_val = 0.0, 0.0, 0.0\n",
    "learning_rate = 0.01\n",
    "max_iterations = 10000\n",
    "target_mse = 55\n",
    "\n",
    "for iteration in range(max_iterations):\n",
    "    current_mse = mse_func(x_val, y_val, z_val)\n",
    "    print(f\"Итерация {iteration}: x={x_val:.4f}, y={y_val:.4f}, z={z_val:.4f} | MSE={current_mse:.2f}\")\n",
    "    if current_mse < target_mse:\n",
    "        print(f\"Цель достигнута на итерации {iteration}!\")\n",
    "        break\n",
    "    \n",
    "    grad = calculate_gradient(x_val, y_val, z_val)\n",
    "    x_val -= learning_rate * grad[0]\n",
    "    y_val -= learning_rate * grad[1]\n",
    "    z_val -= learning_rate * grad[2]"
   ]
  },
  {
   "cell_type": "code",
   "execution_count": null,
   "metadata": {},
   "outputs": [],
   "source": []
  }
 ],
 "metadata": {
  "kernelspec": {
   "display_name": "base",
   "language": "python",
   "name": "python3"
  },
  "language_info": {
   "codemirror_mode": {
    "name": "ipython",
    "version": 3
   },
   "file_extension": ".py",
   "mimetype": "text/x-python",
   "name": "python",
   "nbconvert_exporter": "python",
   "pygments_lexer": "ipython3",
   "version": "3.12.7"
  }
 },
 "nbformat": 4,
 "nbformat_minor": 2
}
